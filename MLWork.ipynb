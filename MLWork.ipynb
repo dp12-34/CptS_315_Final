{
 "cells": [
  {
   "cell_type": "code",
   "execution_count": 2,
   "metadata": {},
   "outputs": [
    {
     "name": "stderr",
     "output_type": "stream",
     "text": [
      "c:\\Users\\drewp\\AppData\\Local\\Programs\\Python\\Python311\\Lib\\site-packages\\tqdm\\auto.py:21: TqdmWarning: IProgress not found. Please update jupyter and ipywidgets. See https://ipywidgets.readthedocs.io/en/stable/user_install.html\n",
      "  from .autonotebook import tqdm as notebook_tqdm\n"
     ]
    },
    {
     "name": "stdout",
     "output_type": "stream",
     "text": [
      "Using GPU is CUDA:0\n"
     ]
    }
   ],
   "source": [
    "import os    \n",
    "import tensorflow as tf\n",
    "import tensorflow_datasets as tfds\n",
    "import numpy as np\n",
    "\n",
    "os.environ[\"CUDA_DEVICE_ORDER\"] = \"PCI_BUS_ID\"\n",
    "os.environ[\"CUDA_VISIBLE_DEVICES\"] = \"0\"\n",
    "print(f\"Using GPU is CUDA:{os.environ['CUDA_VISIBLE_DEVICES']}\")\n",
    "#used https://www.tensorflow.org/datasets/keras_example for my project, was a huge help\n",
    "#for understanding what I needed to do\n",
    "#https://stackoverflow.com/questions/64645503/tensorflow-datasets-cannot-batch-tensors-of-different-shapes-error-even-after-r\n",
    "#\n",
    "\n",
    "\n",
    "#grabs all my gpus (1) for helping to limit the memory growth\n",
    "#using the GPU will make the training faster and prevent out of memory errors"
   ]
  },
  {
   "cell_type": "code",
   "execution_count": 3,
   "metadata": {},
   "outputs": [],
   "source": [
    "#training pipeline\n",
    "#creating a function that will normalize the pictures into the correct types\n",
    "def normal_image(image, label):\n",
    "   image = tf.image.resize(image, [180,180])\n",
    "   return tf.cast(image, tf.float32) / 255., label\n"
   ]
  },
  {
   "cell_type": "code",
   "execution_count": 4,
   "metadata": {},
   "outputs": [],
   "source": [
    "#initializing the testing and training datasets with parameters \n",
    "(ds_train, ds_test) = tfds.load(\n",
    "    name ='stanford_dogs',\n",
    "    split=['train', 'test'],\n",
    "    as_supervised=True,\n",
    "\n",
    ")\n",
    "\n",
    "#mapping the training data for correct type\n",
    "ds_train = ds_train.shuffle(1024)\n",
    "ds_train = ds_train.map(normal_image, num_parallel_calls=tf.data.AUTOTUNE)\n",
    "\n",
    "ds_train = ds_train.batch(128)\n"
   ]
  },
  {
   "cell_type": "code",
   "execution_count": 5,
   "metadata": {},
   "outputs": [],
   "source": [
    "#building an evaluation pipeline\n",
    "#testing pipeline\n",
    "ds_test = ds_test.map(\n",
    "    normal_image, num_parallel_calls=tf.data.AUTOTUNE)\n",
    "ds_test = ds_test.batch(128)\n",
    "#you cache after batching because you oculd have the same batch between epochs\n",
    "ds_test = ds_test.cache()\n",
    "ds_test = ds_test.prefetch(tf.data.AUTOTUNE)\n",
    "\n"
   ]
  },
  {
   "cell_type": "code",
   "execution_count": 7,
   "metadata": {},
   "outputs": [
    {
     "name": "stdout",
     "output_type": "stream",
     "text": [
      "Model: \"sequential_1\"\n",
      "_________________________________________________________________\n",
      " Layer (type)                Output Shape              Param #   \n",
      "=================================================================\n",
      " flatten_1 (Flatten)         (None, 32400)             0         \n",
      "                                                                 \n",
      " dense_2 (Dense)             (None, 128)               4147328   \n",
      "                                                                 \n",
      " dense_3 (Dense)             (None, 10)                1290      \n",
      "                                                                 \n",
      "=================================================================\n",
      "Total params: 4,148,618\n",
      "Trainable params: 4,148,618\n",
      "Non-trainable params: 0\n",
      "_________________________________________________________________\n"
     ]
    }
   ],
   "source": [
    "model = tf.keras.models.Sequential([\n",
    "  tf.keras.layers.Flatten(input_shape=(180, 180)),\n",
    "  tf.keras.layers.Dense(128, activation='relu'),\n",
    "  tf.keras.layers.Dense(10)\n",
    "])\n",
    "model.compile(\n",
    "    optimizer=tf.keras.optimizers.Adam(0.001),\n",
    "    loss=tf.keras.losses.SparseCategoricalCrossentropy(from_logits=True),\n",
    "    metrics=[tf.keras.metrics.SparseCategoricalAccuracy()],\n",
    ")\n",
    "\n",
    "model.summary()\n",
    "# model.fit(\n",
    "#     ds_train,\n",
    "#     epochs=6,\n",
    "#     validation_data=ds_test\n",
    "# )"
   ]
  }
 ],
 "metadata": {
  "kernelspec": {
   "display_name": "Python 3",
   "language": "python",
   "name": "python3"
  },
  "language_info": {
   "codemirror_mode": {
    "name": "ipython",
    "version": 3
   },
   "file_extension": ".py",
   "mimetype": "text/x-python",
   "name": "python",
   "nbconvert_exporter": "python",
   "pygments_lexer": "ipython3",
   "version": "3.11.3"
  },
  "orig_nbformat": 4
 },
 "nbformat": 4,
 "nbformat_minor": 2
}
